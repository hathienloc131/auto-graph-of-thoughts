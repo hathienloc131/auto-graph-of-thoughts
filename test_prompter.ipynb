{
 "cells": [
  {
   "cell_type": "code",
   "execution_count": 1,
   "metadata": {},
   "outputs": [
    {
     "name": "stdout",
     "output_type": "stream",
     "text": [
      "Sort this list using sort algorithm\n"
     ]
    }
   ],
   "source": [
    "from graph_of_thoughts.prompter import LanguageModelPrompter\n",
    "from graph_of_thoughts.language_model import ChatGPT\n",
    "lm = ChatGPT()\n",
    "list = \"[9, 6, 7, 7, 2, 0, 2, 2, 3, 5, 0, 9, 2, 2, 4, 4, 5, 2, 5, 1, 2, 8, 3, 8, 3, 9, 6, 0, 4, 2, 2, 3]\"\n",
    "main_task = f\"Sort this list {list}\"\n",
    "prompter = LanguageModelPrompter(lm, main_task)\n",
    "num_split = 4\n",
    "print(f\"Sort this list using sort algorithm\")\n",
    "\n",
    "\n"
   ]
  },
  {
   "cell_type": "code",
   "execution_count": 2,
   "metadata": {},
   "outputs": [
    {
     "name": "stdout",
     "output_type": "stream",
     "text": [
      "<Instruction>NEXT TASK: Divide the list [9, 6, 7, 7, 2, 0, 2, 2, 3, 5, 0, 9, 2, 2, 4, 4, 5, 2, 5, 1, 2, 8, 3, 8, 3, 9, 6, 0, 4, 2, 2, 3] into 4 equal sublists.</Instruction> \n",
      " INPUT: START \n",
      " PROBLEM: Sort this list [9, 6, 7, 7, 2, 0, 2, 2, 3, 5, 0, 9, 2, 2, 4, 4, 5, 2, 5, 1, 2, 8, 3, 8, 3, 9, 6, 0, 4, 2, 2, 3] \n",
      " OUTPUT:\n",
      "<S>[0, 0, 0, 1, 2, 2, 2, 2, 2, 2, 2]</S>\n",
      "<S>[3, 3, 3, 4, 4, 4, 5, 5, 5, 6, 6]</S>\n",
      "<S>[7, 7, 8, 8, 9, 9, 9]</S>\n",
      "<S>[2, 2, 2, 3, 5]</S>\n"
     ]
    }
   ],
   "source": [
    "split_prompt = prompter.split_prompt({\"state\": f\"START\", \"num_split\": num_split, \"current\": \"START\"})\n",
    "print(split_prompt)\n",
    "split_result = lm.get_response_texts(lm.query(split_prompt))[0]\n",
    "print(split_result)\n"
   ]
  },
  {
   "cell_type": "code",
   "execution_count": 3,
   "metadata": {},
   "outputs": [],
   "source": [
    "split_result = split_result.replace(\"<S>\",\"\").replace(\"</S>\", \"\").split(\"\\n\")\n"
   ]
  },
  {
   "cell_type": "code",
   "execution_count": 4,
   "metadata": {},
   "outputs": [
    {
     "name": "stdout",
     "output_type": "stream",
     "text": [
      "<Instruction>Sort the result of the previous task in ascending order. </Instruction> \n",
      " INPUT: [0, 0, 0, 1, 2, 2, 2, 2, 2, 2, 2] \n",
      " PROBLEM: Sort this list [9, 6, 7, 7, 2, 0, 2, 2, 3, 5, 0, 9, 2, 2, 4, 4, 5, 2, 5, 1, 2, 8, 3, 8, 3, 9, 6, 0, 4, 2, 2, 3] \n",
      " OUTPUT:\n",
      "<S>[0, 0, 0, 1, 2, 2, 2, 2, 2, 2, 2]</S>\n",
      "<Instruction>Sort the result of the previous task in ascending order. </Instruction> \n",
      " INPUT: [3, 3, 3, 4, 4, 4, 5, 5, 5, 6, 6] \n",
      " PROBLEM: Sort this list [9, 6, 7, 7, 2, 0, 2, 2, 3, 5, 0, 9, 2, 2, 4, 4, 5, 2, 5, 1, 2, 8, 3, 8, 3, 9, 6, 0, 4, 2, 2, 3] \n",
      " OUTPUT:\n",
      "<S>[3, 3, 3, 4, 4, 4, 5, 5, 5, 6, 6]</S>\n",
      "<Instruction>Sort the result of the previous task in ascending order. </Instruction> \n",
      " INPUT: [7, 7, 8, 8, 9, 9, 9] \n",
      " PROBLEM: Sort this list [9, 6, 7, 7, 2, 0, 2, 2, 3, 5, 0, 9, 2, 2, 4, 4, 5, 2, 5, 1, 2, 8, 3, 8, 3, 9, 6, 0, 4, 2, 2, 3] \n",
      " OUTPUT:\n",
      "<S>[7, 7, 8, 8, 9, 9, 9]</S>\n",
      "<Instruction>Sort the sublist [2, 2, 2, 3, 5]. </Instruction> \n",
      " INPUT: [2, 2, 2, 3, 5] \n",
      " PROBLEM: Sort this list [9, 6, 7, 7, 2, 0, 2, 2, 3, 5, 0, 9, 2, 2, 4, 4, 5, 2, 5, 1, 2, 8, 3, 8, 3, 9, 6, 0, 4, 2, 2, 3] \n",
      " OUTPUT:\n",
      "<S>[2, 2, 2, 3, 5]</S>\n"
     ]
    }
   ],
   "source": [
    "generate_result =[]\n",
    "for v in split_result:\n",
    "    generate_prompt = prompter.generate_prompt({\"state\": f\"\"\"Divide the given list into 4 equal sublists.\"\"\", \"current\":v})\n",
    "    print(generate_prompt)\n",
    "    result = lm.get_response_texts(lm.query(generate_prompt))[0]\n",
    "    print(result)\n",
    "    generate_result.append(result)"
   ]
  },
  {
   "cell_type": "code",
   "execution_count": 5,
   "metadata": {},
   "outputs": [],
   "source": [
    "generate_result = \"\\n\".join([f\"\"\"{e}: {v.replace(\"<S>\",\"\").replace(\"</S>\", \"\")}\"\"\" for e, v in enumerate(generate_result)])"
   ]
  },
  {
   "cell_type": "code",
   "execution_count": 6,
   "metadata": {},
   "outputs": [],
   "source": [
    "generate_prompt = \"\"\"\n",
    "1: Sort the result of the previous task in ascending order.\n",
    "2: Sort the result of the previous task in ascending order.\n",
    "3: Sort the result of the previous task in ascending order.\n",
    "4: Sort the sublist [2, 2, 2, 3, 5].\"\"\""
   ]
  },
  {
   "cell_type": "code",
   "execution_count": 7,
   "metadata": {},
   "outputs": [
    {
     "name": "stdout",
     "output_type": "stream",
     "text": [
      "0: [0, 0, 0, 1, 2, 2, 2, 2, 2, 2, 2]\n",
      "1: [3, 3, 3, 4, 4, 4, 5, 5, 5, 6, 6]\n",
      "2: [7, 7, 8, 8, 9, 9, 9]\n",
      "3: [2, 2, 2, 3, 5]\n"
     ]
    }
   ],
   "source": [
    "print(generate_result)"
   ]
  },
  {
   "cell_type": "code",
   "execution_count": 8,
   "metadata": {},
   "outputs": [
    {
     "name": "stdout",
     "output_type": "stream",
     "text": [
      "<Instruction>Combine all the sorted sublists into a single sorted list. </Instruction> \n",
      " INPUT: 0: [0, 0, 0, 1, 2, 2, 2, 2, 2, 2, 2]\n",
      "1: [3, 3, 3, 4, 4, 4, 5, 5, 5, 6, 6]\n",
      "2: [7, 7, 8, 8, 9, 9, 9]\n",
      "3: [2, 2, 2, 3, 5] \n",
      " PROBLEM: Sort this list [9, 6, 7, 7, 2, 0, 2, 2, 3, 5, 0, 9, 2, 2, 4, 4, 5, 2, 5, 1, 2, 8, 3, 8, 3, 9, 6, 0, 4, 2, 2, 3] \n",
      " OUTPUT:\n",
      "<S>[0, 0, 0, 0, 1, 2, 2, 2, 2, 2, 2, 2, 2, 2, 3, 3, 3, 3, 4, 4, 4, 4, 5, 5, 5, 5, 6, 6, 6, 7, 7, 7, 8, 8, 9, 9, 9]</S>\n"
     ]
    }
   ],
   "source": [
    "aggregate_prompt = prompter.aggregate_prompt({\"state\": generate_prompt, \"current\":generate_result})\n",
    "print(aggregate_prompt)\n",
    "aggregate_result = lm.get_response_texts(lm.query(aggregate_prompt))[0]\n",
    "print(aggregate_result)\n"
   ]
  }
 ],
 "metadata": {
  "kernelspec": {
   "display_name": "graph_of_thought",
   "language": "python",
   "name": "python3"
  },
  "language_info": {
   "codemirror_mode": {
    "name": "ipython",
    "version": 3
   },
   "file_extension": ".py",
   "mimetype": "text/x-python",
   "name": "python",
   "nbconvert_exporter": "python",
   "pygments_lexer": "ipython3",
   "version": "3.9.18"
  }
 },
 "nbformat": 4,
 "nbformat_minor": 2
}
