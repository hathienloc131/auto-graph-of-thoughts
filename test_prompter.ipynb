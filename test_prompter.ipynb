{
 "cells": [
  {
   "cell_type": "code",
   "execution_count": 2,
   "metadata": {},
   "outputs": [
    {
     "name": "stdout",
     "output_type": "stream",
     "text": [
      "Sort this list using merge sort algorithm [9, 6, 7, 7, 2, 0, 2, 2, 3, 5, 0, 9, 2, 2, 4, 4, 5, 2, 5, 1, 2, 8, 3, 8, 3, 9, 6, 0, 4, 2, 2, 3]\n"
     ]
    }
   ],
   "source": [
    "from graph_of_thoughts.prompter import LanguageModelPrompter\n",
    "from graph_of_thoughts.language_model import ChatGPT\n",
    "lm = ChatGPT()\n",
    "prompter = LanguageModelPrompter(lm, \"Main Task: Sort this list using merge sort algorithm\")\n",
    "list = \"[9, 6, 7, 7, 2, 0, 2, 2, 3, 5, 0, 9, 2, 2, 4, 4, 5, 2, 5, 1, 2, 8, 3, 8, 3, 9, 6, 0, 4, 2, 2, 3]\"\n",
    "num_split = 4\n",
    "print(f\"Sort this list using merge sort algorithm {list}\")\n",
    "\n",
    "\n"
   ]
  },
  {
   "cell_type": "code",
   "execution_count": 3,
   "metadata": {},
   "outputs": [
    {
     "name": "stdout",
     "output_type": "stream",
     "text": [
      "<Instruction>To divide the current task into exactly 4 subtasks, you can start by splitting the list into two equal parts. Then, split each of these two parts into two more equal parts. This will create 4 subtasks, each containing a portion of the original list. \n",
      "Only output the 4 results in format json {\"0\":..., \"1\": ...} without any addtional text or thoughts.</Instruction>\n",
      "Input: [9, 6, 7, 7, 2, 0, 2, 2, 3, 5, 0, 9, 2, 2, 4, 4, 5, 2, 5, 1, 2, 8, 3, 8, 3, 9, 6, 0, 4, 2, 2, 3]\n",
      "Output:\n"
     ]
    }
   ],
   "source": [
    "split_prompt = prompter.split_prompt({\"state\": f\"Sort this list using merge sort algorithm\\nInput\", \"num_split\": num_split, \"current\": list})\n",
    "print(split_prompt)"
   ]
  },
  {
   "cell_type": "code",
   "execution_count": 9,
   "metadata": {},
   "outputs": [
    {
     "name": "stdout",
     "output_type": "stream",
     "text": [
      "{\n",
      "  \"0\": [9, 6, 7, 7, 2, 0, 2, 2, 3, 5],\n",
      "  \"1\": [0, 9, 2, 2, 4, 4, 5, 2, 5, 1],\n",
      "  \"2\": [2, 8, 3, 8, 3, 9, 6, 0, 4, 2],\n",
      "  \"3\": [2, 3]\n",
      "}\n"
     ]
    }
   ],
   "source": [
    "split_result = lm.get_response_texts(lm.query(split_prompt))[0]\n",
    "print(split_result)\n"
   ]
  },
  {
   "cell_type": "code",
   "execution_count": 10,
   "metadata": {},
   "outputs": [],
   "source": [
    "import json\n",
    "split_result_dict = json.loads(split_result)"
   ]
  },
  {
   "cell_type": "code",
   "execution_count": 11,
   "metadata": {},
   "outputs": [
    {
     "name": "stdout",
     "output_type": "stream",
     "text": [
      "<Instruction>After dividing the list into exactly 4 subtasks, the next step is to recursively sort each of the subtasks using the merge sort algorithm. This involves dividing each subtask further if it contains more than one element, and then merging the sorted sublists back together in the correct order. \n",
      "Only output the result in format json {\"0\":} without any addtional text or thoughts.</Instruction>\n",
      "Input: [9, 6, 7, 7, 2, 0, 2, 2, 3, 5]\n",
      "Output:\n",
      "[0, 2, 2, 2, 3, 5, 6, 7, 7, 9]\n",
      "<Instruction>After dividing the list into exactly 4 subtasks, the next step is to recursively sort each of these subtasks using the merge sort algorithm. This involves dividing each subtask further if it contains more than one element, and then merging the sorted subtasks back together in the correct order. \n",
      "Only output the result in format json {\"0\":} without any addtional text or thoughts.</Instruction>\n",
      "Input: [0, 9, 2, 2, 4, 4, 5, 2, 5, 1]\n",
      "Output:\n",
      "[0, 1, 2, 2, 2, 4, 4, 5, 5, 9]\n",
      "<Instruction>After splitting the list into two equal parts, the next step is to recursively split each of these two parts into two more equal parts until each subtask contains only one element. This will create 4 subtasks, each containing a portion of the original list. \n",
      "Only output the result in format json {\"0\":} without any addtional text or thoughts.</Instruction>\n",
      "Input: [2, 8, 3, 8, 3, 9, 6, 0, 4, 2]\n",
      "Output:\n",
      "[2]\n",
      "<Instruction>After splitting the list into two equal parts, the next step is to recursively split each of these two parts into two more equal parts until each subtask contains only one element. This will create the base case for the merge sort algorithm, where we can start merging and sorting the sublists. \n",
      "Only output the result in format json {\"0\":} without any addtional text or thoughts.</Instruction>\n",
      "Input: [2, 3]\n",
      "Output:\n",
      "[2, 3]\n"
     ]
    }
   ],
   "source": [
    "generate_result_dict = {}\n",
    "for k, v in split_result_dict.items():\n",
    "    generate_prompt = prompter.generate_prompt({\"state\": \"To divide the current task into exactly 4 subtasks, you can start by splitting the list into two equal parts. Then, split each of these two parts into two more equal parts. This will create 4 subtasks, each containing a portion of the original list.\", \"current\":v})\n",
    "    print(generate_prompt)\n",
    "    generate_result_dict[k] = json.loads(lm.get_response_texts(lm.query(generate_prompt))[0])[\"0\"]\n",
    "\n",
    "    print(generate_result_dict[k])"
   ]
  },
  {
   "cell_type": "code",
   "execution_count": 12,
   "metadata": {},
   "outputs": [
    {
     "name": "stdout",
     "output_type": "stream",
     "text": [
      "{'0': [0, 2, 2, 2, 3, 5, 6, 7, 7, 9], '1': [0, 1, 2, 2, 2, 4, 4, 5, 5, 9], '2': [2], '3': [2, 3]}\n"
     ]
    }
   ],
   "source": [
    "print(generate_result_dict)"
   ]
  },
  {
   "cell_type": "code",
   "execution_count": 14,
   "metadata": {},
   "outputs": [
    {
     "ename": "KeyError",
     "evalue": "0",
     "output_type": "error",
     "traceback": [
      "\u001b[0;31m---------------------------------------------------------------------------\u001b[0m",
      "\u001b[0;31mKeyError\u001b[0m                                  Traceback (most recent call last)",
      "Cell \u001b[0;32mIn[14], line 1\u001b[0m\n\u001b[0;32m----> 1\u001b[0m aggregate_prompt \u001b[38;5;241m=\u001b[39m \u001b[43mprompter\u001b[49m\u001b[38;5;241;43m.\u001b[39;49m\u001b[43maggregate_prompt\u001b[49m\u001b[43m(\u001b[49m\u001b[43m{\u001b[49m\u001b[38;5;124;43m\"\u001b[39;49m\u001b[38;5;124;43mstate\u001b[39;49m\u001b[38;5;124;43m\"\u001b[39;49m\u001b[43m:\u001b[49m\u001b[43m \u001b[49m\u001b[38;5;124;43m\"\u001b[39;49m\u001b[38;5;124;43mAfter dividing the list into exactly 4 subtasks, the next step is to recursively sort each of the subtasks using the merge sort algorithm. This involves dividing each subtask further if it contains more than one element, and then merging the sorted sublists back together in the correct order.\u001b[39;49m\u001b[38;5;124;43m\"\u001b[39;49m\u001b[43m,\u001b[49m\u001b[43m \u001b[49m\u001b[38;5;124;43m\"\u001b[39;49m\u001b[38;5;124;43mcurrent\u001b[39;49m\u001b[38;5;124;43m\"\u001b[39;49m\u001b[43m:\u001b[49m\u001b[43mgenerate_result_dict\u001b[49m\u001b[43m}\u001b[49m\u001b[43m)\u001b[49m\n",
      "File \u001b[0;32m~/Documents/graph-of-thoughs-generator/graph_of_thoughts/prompter/language_model_prompter.py:33\u001b[0m, in \u001b[0;36mLanguageModelPrompter.aggregate_prompt\u001b[0;34m(self, state_dicts, **kwargs)\u001b[0m\n\u001b[1;32m     30\u001b[0m query \u001b[38;5;241m=\u001b[39m \u001b[38;5;124mf\u001b[39m\u001b[38;5;124m\"\"\"\u001b[39m\u001b[38;5;124m<Description>Give me a single STEP to aggregate or combine into final result by using all results from CURRENT TASK.</Description>\u001b[39m\u001b[38;5;130;01m\\n\u001b[39;00m\u001b[38;5;124mCURRENT TASK: \u001b[39m\u001b[38;5;132;01m{\u001b[39;00mstate_dicts[\u001b[38;5;124m\"\u001b[39m\u001b[38;5;124mstate\u001b[39m\u001b[38;5;124m\"\u001b[39m]\u001b[38;5;132;01m}\u001b[39;00m\u001b[38;5;130;01m\\n\u001b[39;00m\u001b[38;5;124mSTEP:\u001b[39m\u001b[38;5;124m\"\"\"\u001b[39m\n\u001b[1;32m     31\u001b[0m aggregate_prompt_raw \u001b[38;5;241m=\u001b[39m \u001b[38;5;28mself\u001b[39m\u001b[38;5;241m.\u001b[39mlm\u001b[38;5;241m.\u001b[39mget_response_texts(\u001b[38;5;28mself\u001b[39m\u001b[38;5;241m.\u001b[39mlm\u001b[38;5;241m.\u001b[39mquery(query, \u001b[38;5;241m1\u001b[39m, \u001b[38;5;28mself\u001b[39m\u001b[38;5;241m.\u001b[39mproblem_description \u001b[38;5;241m+\u001b[39m  \u001b[38;5;28mself\u001b[39m\u001b[38;5;241m.\u001b[39msystem_prompt))[\u001b[38;5;241m0\u001b[39m]\n\u001b[0;32m---> 33\u001b[0m aggregate_prompt \u001b[38;5;241m=\u001b[39m \u001b[38;5;124mf\u001b[39m\u001b[38;5;124m\"\"\"\u001b[39m\u001b[38;5;124m<Instruction>\u001b[39m\u001b[38;5;132;01m{\u001b[39;00maggregate_prompt_raw\u001b[38;5;132;01m}\u001b[39;00m\u001b[38;5;124m \u001b[39m\u001b[38;5;130;01m\\n\u001b[39;00m\u001b[38;5;124mOnly output the result in format json \u001b[39m\u001b[38;5;130;01m{{\u001b[39;00m\u001b[38;5;130;01m\\\"\u001b[39;00m\u001b[38;5;124m0\u001b[39m\u001b[38;5;130;01m\\\"\u001b[39;00m\u001b[38;5;124m:\u001b[39m\u001b[38;5;130;01m}}\u001b[39;00m\u001b[38;5;124m without any addtional text or thoughts.</Instruction>\u001b[39m\u001b[38;5;130;01m\\n\u001b[39;00m\u001b[38;5;124mInput: \u001b[39m\u001b[38;5;132;01m{\u001b[39;00mstate_dicts[\u001b[38;5;241m0\u001b[39m][\u001b[38;5;124m\"\u001b[39m\u001b[38;5;124mcurrent\u001b[39m\u001b[38;5;124m\"\u001b[39m]\u001b[38;5;132;01m}\u001b[39;00m\u001b[38;5;130;01m\\n\u001b[39;00m\u001b[38;5;124mOutput:\u001b[39m\u001b[38;5;124m\"\"\"\u001b[39m\n\u001b[1;32m     35\u001b[0m \u001b[38;5;28;01mreturn\u001b[39;00m  aggregate_prompt\n",
      "\u001b[0;31mKeyError\u001b[0m: 0"
     ]
    }
   ],
   "source": [
    "aggregate_prompt = prompter.aggregate_prompt({\"state\": \"After dividing the list into exactly 4 subtasks, the next step is to recursively sort each of the subtasks using the merge sort algorithm. This involves dividing each subtask further if it contains more than one element, and then merging the sorted sublists back together in the correct order.\", \"current\":generate_result_dict})\n"
   ]
  },
  {
   "cell_type": "code",
   "execution_count": null,
   "metadata": {},
   "outputs": [
    {
     "name": "stdout",
     "output_type": "stream",
     "text": [
      "<Instruction>Sort the given list using the merge sort algorithm. \n",
      "Only output the result in format json {\"0\":} without any addtional text or thoughts.</Instruction>\n",
      "Input: {'0': [0, 2, 2, 2, 6, 7, 7, 9], '1': [0, 2, 2, 3, 4, 4, 5, 9], '2': [1, 2, 2, 3, 5, 5, 8, 8], '3': [0, 2, 2, 3, 3, 4, 6, 9]}\n",
      "Output:\n"
     ]
    }
   ],
   "source": []
  },
  {
   "cell_type": "code",
   "execution_count": null,
   "metadata": {},
   "outputs": [
    {
     "data": {
      "text/plain": [
       "'{\"0\": [0, 0, 1, 2, 2, 2, 2, 2, 3, 3, 4, 4, 5, 5, 6, 6, 7, 7, 8, 8, 9, 9]}'"
      ]
     },
     "execution_count": 26,
     "metadata": {},
     "output_type": "execute_result"
    }
   ],
   "source": [
    "lm.get_response_texts(lm.query(aggregate_prompt))[0]"
   ]
  }
 ],
 "metadata": {
  "kernelspec": {
   "display_name": "graph_of_thought",
   "language": "python",
   "name": "python3"
  },
  "language_info": {
   "codemirror_mode": {
    "name": "ipython",
    "version": 3
   },
   "file_extension": ".py",
   "mimetype": "text/x-python",
   "name": "python",
   "nbconvert_exporter": "python",
   "pygments_lexer": "ipython3",
   "version": "3.9.18"
  }
 },
 "nbformat": 4,
 "nbformat_minor": 2
}
