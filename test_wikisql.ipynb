{
 "cells": [
  {
   "cell_type": "markdown",
   "metadata": {},
   "source": [
    "# Test 1"
   ]
  },
  {
   "cell_type": "markdown",
   "metadata": {},
   "source": [
    "## Input\n",
    "**Table** = { \"header\": [ \"State/territory\", \"Text/background colour\", \"Format\", \"Current slogan\", \"Current series\", \"Notes\" ], \"page_title\": \"\", \"page_id\": \"\", \"types\": [ \"text\", \"text\", \"text\", \"text\", \"text\", \"text\" ], \"id\": \"1-1000181-1\", \"section_title\": \"\", \"caption\": \"\", \"rows\": [ [ \"Australian Capital Territory\", \"blue/white\", \"Yaa·nna\", \"ACT · CELEBRATION OF A CENTURY 2013\", \"YIL·00A\", \"Slogan screenprinted on plate\" ], [ \"New South Wales\", \"black/yellow\", \"aa·nn·aa\", \"NEW SOUTH WALES\", \"BX·99·HI\", \"No slogan on current series\" ], [ \"New South Wales\", \"black/white\", \"aaa·nna\", \"NSW\", \"CPX·12A\", \"Optional white slimline series\" ], [ \"Northern Territory\", \"ochre/white\", \"Ca·nn·aa\", \"NT · OUTBACK AUSTRALIA\", \"CB·06·ZZ\", \"New series began in June 2011\" ], [ \"Queensland\", \"maroon/white\", \"nnn·aaa\", \"QUEENSLAND · SUNSHINE STATE\", \"999·TLG\", \"Slogan embossed on plate\" ], [ \"South Australia\", \"black/white\", \"Snnn·aaa\", \"SOUTH AUSTRALIA\", \"S000·AZD\", \"No slogan on current series\" ], [ \"Victoria\", \"blue/white\", \"aaa·nnn\", \"VICTORIA - THE PLACE TO BE\", \"ZZZ·562\", \"Current series will be exhausted this year\" ] ], \"name\": \"table_1000181_1\" }\n",
    "\n",
    "**Question** = What is the format for South Australia?"
   ]
  },
  {
   "cell_type": "markdown",
   "metadata": {},
   "source": [
    "## Answer\n",
    "{ \"human_readable\": \"SELECT Format FROM table WHERE State/territory = South Australia\", \"sel\": 2, \"agg\": 0, \"conds\": { \"column_index\": [ 0 ], \"operator_index\": [ 0 ], \"condition\": [ \"South Australia\" ] } }"
   ]
  },
  {
   "cell_type": "code",
   "execution_count": 1,
   "metadata": {},
   "outputs": [
    {
     "name": "stdout",
     "output_type": "stream",
     "text": [
      "Write a SQL include SELECT, FROM, WHERE to answer the specific question knowing Table = { \"header\": [ \"State/territory\", \"Text/background colour\", \"Format\", \"Current slogan\", \"Current series\", \"Notes\" ], \"types\": [ \"text\", \"text\", \"text\", \"text\", \"text\", \"text\" ],\"rows\": [ [ \"Australian Capital Territory\", \"blue/white\", \"Yaa·nna\", \"ACT · CELEBRATION OF A CENTURY 2013\", \"YIL·00A\", \"Slogan screenprinted on plate\" ], [ \"New South Wales\", \"black/yellow\", \"aa·nn·aa\", \"NEW SOUTH WALES\", \"BX·99·HI\", \"No slogan on current series\" ], [ \"New South Wales\", \"black/white\", \"aaa·nna\", \"NSW\", \"CPX·12A\", \"Optional white slimline series\" ], [ \"Northern Territory\", \"ochre/white\", \"Ca·nn·aa\", \"NT · OUTBACK AUSTRALIA\", \"CB·06·ZZ\", \"New series began in June 2011\" ], [ \"Queensland\", \"maroon/white\", \"nnn·aaa\", \"QUEENSLAND · SUNSHINE STATE\", \"999·TLG\", \"Slogan embossed on plate\" ], [ \"South Australia\", \"black/white\", \"Snnn·aaa\", \"SOUTH AUSTRALIA\", \"S000·AZD\", \"No slogan on current series\" ], [ \"Victoria\", \"blue/white\", \"aaa·nnn\", \"VICTORIA - THE PLACE TO BE\", \"ZZZ·562\", \"Current series will be exhausted this year\" ] ]} What is the format for South Australia?\n"
     ]
    }
   ],
   "source": [
    "from graph_of_thoughts.prompter import LanguageModelPrompter\n",
    "from graph_of_thoughts.language_model import ChatGPT\n",
    "lm = ChatGPT()\n",
    "main_task = 'Write a SQL include SELECT, FROM, WHERE to answer the specific question knowing Table = { \"header\": [ \"State/territory\", \"Text/background colour\", \"Format\", \"Current slogan\", \"Current series\", \"Notes\" ], \"types\": [ \"text\", \"text\", \"text\", \"text\", \"text\", \"text\" ],\"rows\": [ [ \"Australian Capital Territory\", \"blue/white\", \"Yaa·nna\", \"ACT · CELEBRATION OF A CENTURY 2013\", \"YIL·00A\", \"Slogan screenprinted on plate\" ], [ \"New South Wales\", \"black/yellow\", \"aa·nn·aa\", \"NEW SOUTH WALES\", \"BX·99·HI\", \"No slogan on current series\" ], [ \"New South Wales\", \"black/white\", \"aaa·nna\", \"NSW\", \"CPX·12A\", \"Optional white slimline series\" ], [ \"Northern Territory\", \"ochre/white\", \"Ca·nn·aa\", \"NT · OUTBACK AUSTRALIA\", \"CB·06·ZZ\", \"New series began in June 2011\" ], [ \"Queensland\", \"maroon/white\", \"nnn·aaa\", \"QUEENSLAND · SUNSHINE STATE\", \"999·TLG\", \"Slogan embossed on plate\" ], [ \"South Australia\", \"black/white\", \"Snnn·aaa\", \"SOUTH AUSTRALIA\", \"S000·AZD\", \"No slogan on current series\" ], [ \"Victoria\", \"blue/white\", \"aaa·nnn\", \"VICTORIA - THE PLACE TO BE\", \"ZZZ·562\", \"Current series will be exhausted this year\" ] ]}'\n",
    "prompter = LanguageModelPrompter(lm, f\"Main Task: {main_task}\", json_format=False)\n",
    "input = 'What is the format for South Australia?'\n",
    "print(f\"{main_task} {input}\")\n",
    "\n",
    "\n"
   ]
  },
  {
   "cell_type": "code",
   "execution_count": 2,
   "metadata": {},
   "outputs": [
    {
     "name": "stdout",
     "output_type": "stream",
     "text": [
      "<Instruction>After retrieving the data from the current task, the next step would be to write a SQL query using SELECT, FROM, and WHERE clauses to filter the data based on the specific criteria or conditions provided in the question. \n",
      "Only answer the result without any addtional text or thoughts.</Instruction>\n",
      "Input: What is the format for South Australia?\n",
      "Answer:\n"
     ]
    }
   ],
   "source": [
    "generate_prompt = prompter.generate_prompt({\"state\": f\"\"\"Start\\Input\"\"\", \"current\":input})\n",
    "print(generate_prompt)"
   ]
  },
  {
   "cell_type": "code",
   "execution_count": 3,
   "metadata": {},
   "outputs": [],
   "source": [
    "generate_result = lm.get_response_texts(lm.query(generate_prompt, 1, main_task))[0]"
   ]
  },
  {
   "cell_type": "code",
   "execution_count": 4,
   "metadata": {},
   "outputs": [
    {
     "name": "stdout",
     "output_type": "stream",
     "text": [
      "SELECT Format\n",
      "FROM Table\n",
      "WHERE \"State/territory\" = 'South Australia';\n"
     ]
    }
   ],
   "source": [
    "print(generate_result)"
   ]
  },
  {
   "cell_type": "markdown",
   "metadata": {},
   "source": [
    "# Test 2 "
   ]
  },
  {
   "cell_type": "markdown",
   "metadata": {},
   "source": [
    "## Input\n",
    "**Table** = { \"header\": [ \"Year\", \"Tournaments played\", \"Cuts made*\", \"Wins\", \"2nd\", \"Top 10s\", \"Best finish\", \"Earnings ($)\", \"Money list rank\", \"Scoring average\", \"Scoring rank\" ], \"page_title\": \"Meaghan Francella\", \"page_id\": \"\", \"types\": [ \"real\", \"real\", \"real\", \"real\", \"real\", \"real\", \"text\", \"real\", \"text\", \"text\", \"text\" ], \"id\": \"1-10021158-3\", \"section_title\": \"LPGA Tour career summary\", \"caption\": \"LPGA Tour career summary\", \"rows\": [ [ \"2005\", \"1\", \"1\", \"0\", \"0\", \"0\", \"T69\", \"2525\", \"n/a\", \"75.00\", \"n/a\" ], [ \"2006\", \"3\", \"1\", \"0\", \"0\", \"0\", \"T39\", \"55554\", \"183\", \"73.75\", \"n/a\" ], [ \"2007\", \"25\", \"18\", \"1\", \"0\", \"4\", \"1\", \"507292\", \"29\", \"73.09\", \"66\" ], [ \"2008\", \"24\", \"11\", \"0\", \"0\", \"0\", \"T13\", \"117682\", \"88\", \"73.75\", \"131\" ], [ \"2009\", \"22\", \"16\", \"0\", \"0\", \"2\", \"T5\", \"292266\", \"48\", \"72.51\", \"63\" ], [ \"2010\", \"21\", \"17\", \"0\", \"0\", \"1\", \"T7\", \"168016\", \"57\", \"73.04\", \"77\" ], [ \"2011\", \"15\", \"8\", \"0\", \"0\", \"0\", \"T22\", \"66813\", \"84\", \"74.23\", \"117\" ], [ \"2012\", \"15\", \"4\", \"0\", \"0\", \"0\", \"T24\", \"28935\", \"116\", \"74.37\", \"121\" ] ], \"name\": \"table_10021158_3\" }\n",
    "\n",
    "**Question** = When the money list rank was n/a, what was the scoring average?"
   ]
  },
  {
   "cell_type": "markdown",
   "metadata": {},
   "source": [
    "## "
   ]
  }
 ],
 "metadata": {
  "kernelspec": {
   "display_name": "graph_of_thought",
   "language": "python",
   "name": "python3"
  },
  "language_info": {
   "codemirror_mode": {
    "name": "ipython",
    "version": 3
   },
   "file_extension": ".py",
   "mimetype": "text/x-python",
   "name": "python",
   "nbconvert_exporter": "python",
   "pygments_lexer": "ipython3",
   "version": "3.9.18"
  }
 },
 "nbformat": 4,
 "nbformat_minor": 2
}
