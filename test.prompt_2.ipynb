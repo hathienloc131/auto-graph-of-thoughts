{
 "cells": [
  {
   "cell_type": "code",
   "execution_count": 1,
   "metadata": {},
   "outputs": [
    {
     "name": "stdout",
     "output_type": "stream",
     "text": [
      "Mrs. Lim milks her cows twice a day. Yesterday morning, she got 68 gallons of milk and in the evening, she got 82 gallons. This morning, she got 18 gallons fewer than she had yesterday morning. After selling some gallons of milk in the afternoon, Mrs. Lim has only 24 gallons left. How much was her revenue for the milk if each gallon costs $3.50?\n"
     ]
    }
   ],
   "source": [
    "from graph_of_thoughts.prompter import LanguageModelPrompter\n",
    "from graph_of_thoughts.language_model import ChatGPT\n",
    "lm = ChatGPT()\n",
    "problem_description = \"\"\"Mrs. Lim milks her cows twice a day. Yesterday morning, she got 68 gallons of milk and in the evening, she got 82 gallons. This morning, she got 18 gallons fewer than she had yesterday morning. After selling some gallons of milk in the afternoon, Mrs. Lim has only 24 gallons left. How much was her revenue for the milk if each gallon costs $3.50?\"\"\"\n",
    "\n",
    "prompter = LanguageModelPrompter(lm, problem_description)\n",
    "num_split = 4\n",
    "print(f\"{problem_description}\")\n",
    "\n",
    "\n"
   ]
  },
  {
   "cell_type": "code",
   "execution_count": 2,
   "metadata": {},
   "outputs": [
    {
     "name": "stdout",
     "output_type": "stream",
     "text": [
      "<Instruction>Divide the problem into exactly the same 4 subtasks: \n",
      "1. Calculate the total amount of milk Mrs. Lim got in the morning and evening yesterday.\n",
      "2. Calculate the amount of milk she got this morning.\n",
      "3. Calculate the total amount of milk she sold in the afternoon.\n",
      "4. Calculate the revenue for the milk sold.</Instruction> \n",
      " INPUT: START \n",
      " PROBLEM: Mrs. Lim milks her cows twice a day. Yesterday morning, she got 68 gallons of milk and in the evening, she got 82 gallons. This morning, she got 18 gallons fewer than she had yesterday morning. After selling some gallons of milk in the afternoon, Mrs. Lim has only 24 gallons left. How much was her revenue for the milk if each gallon costs $3.50? \n",
      " OUTPUT:\n",
      "<S>1. Mrs. Lim got a total of 150 gallons of milk yesterday (68 + 82).</S>\n",
      "<S>2. This morning, Mrs. Lim got 50 gallons of milk (68 - 18).</S>\n",
      "<S>3. Mrs. Lim sold a total of 124 gallons of milk (150 - 24).</S>\n",
      "<S>4. The revenue for the milk sold was $434 (124 * $3.50).</S>\n"
     ]
    }
   ],
   "source": [
    "split_prompt = prompter.split_prompt({\"state\": f\"START\", \"num_split\": num_split, \"current\": \"START\"})\n",
    "print(split_prompt)\n",
    "split_result = lm.get_response_texts(lm.query(split_prompt))[0]\n",
    "print(split_result)\n"
   ]
  },
  {
   "cell_type": "code",
   "execution_count": null,
   "metadata": {},
   "outputs": [],
   "source": []
  },
  {
   "cell_type": "code",
   "execution_count": 3,
   "metadata": {},
   "outputs": [
    {
     "name": "stdout",
     "output_type": "stream",
     "text": [
      "<Instruction>Combine the results from Task 1, Task 2, Task 3, and Task 4 to calculate Mrs. Lim's total revenue for the milk. </Instruction> \n",
      " INPUT: <S>Task 1: Calculate the total amount of milk Mrs. Lim got yesterday.</S>\n",
      "<S>Task 2: Calculate the amount of milk Mrs. Lim got this morning.</S>\n",
      "<S>Task 3: Calculate the total amount of milk Mrs. Lim had before selling some in the afternoon.</S>\n",
      "<S>Task 4: Calculate Mrs. Lim's revenue for the milk sold in the afternoon.</S> \n",
      " PROBLEM: Mrs. Lim milks her cows twice a day. Yesterday morning, she got 68 gallons of milk and in the evening, she got 82 gallons. This morning, she got 18 gallons fewer than she had yesterday morning. After selling some gallons of milk in the afternoon, Mrs. Lim has only 24 gallons left. How much was her revenue for the milk if each gallon costs $3.50? \n",
      " OUTPUT:\n",
      "<S>Task 1: Calculate the total amount of milk Mrs. Lim got yesterday.</S>\n",
      "<S>Task 2: Calculate the amount of milk Mrs. Lim got this morning.</S>\n",
      "<S>Task 3: Calculate the total amount of milk Mrs. Lim had before selling some in the afternoon.</S>\n",
      "<S>Task 4: Calculate Mrs. Lim's revenue for the milk sold in the afternoon.</S>\n"
     ]
    }
   ],
   "source": [
    "aggregate_prompt = prompter.aggregate_prompt({\"state\": f\"\"\"Take each piece of information from the problem and break it down into 4 subtasks:\n",
    "1. Calculate the total amount of milk Mrs. Lim got yesterday.\n",
    "2. Calculate the amount of milk Mrs. Lim got this morning.\n",
    "3. Calculate the total amount of milk Mrs. Lim had before selling some in the afternoon.\n",
    "4. Calculate Mrs. Lim's revenue for the milk sold in the afternoon.\"\"\", \"current\": \"\"\"<S>Task 1: Calculate the total amount of milk Mrs. Lim got yesterday.</S>\n",
    "<S>Task 2: Calculate the amount of milk Mrs. Lim got this morning.</S>\n",
    "<S>Task 3: Calculate the total amount of milk Mrs. Lim had before selling some in the afternoon.</S>\n",
    "<S>Task 4: Calculate Mrs. Lim's revenue for the milk sold in the afternoon.</S>\"\"\"})\n",
    "print(aggregate_prompt)\n",
    "aggregate_result = lm.get_response_texts(lm.query(aggregate_prompt))[0]\n",
    "print(aggregate_result)\n"
   ]
  }
 ],
 "metadata": {
  "kernelspec": {
   "display_name": "graph_of_thought",
   "language": "python",
   "name": "python3"
  },
  "language_info": {
   "codemirror_mode": {
    "name": "ipython",
    "version": 3
   },
   "file_extension": ".py",
   "mimetype": "text/x-python",
   "name": "python",
   "nbconvert_exporter": "python",
   "pygments_lexer": "ipython3",
   "version": "3.9.18"
  }
 },
 "nbformat": 4,
 "nbformat_minor": 2
}
